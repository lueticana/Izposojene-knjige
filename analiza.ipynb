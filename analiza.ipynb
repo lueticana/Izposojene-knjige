{
 "metadata": {
  "language_info": {
   "codemirror_mode": {
    "name": "ipython",
    "version": 3
   },
   "file_extension": ".py",
   "mimetype": "text/x-python",
   "name": "python",
   "nbconvert_exporter": "python",
   "pygments_lexer": "ipython3",
   "version": "3.8.1-final"
  },
  "orig_nbformat": 2,
  "kernelspec": {
   "name": "python3",
   "display_name": "Python 3",
   "language": "python"
  }
 },
 "nbformat": 4,
 "nbformat_minor": 2,
 "cells": [
  {
   "source": [
    "<h1>Izposojene knjige</h1>"
   ],
   "cell_type": "markdown",
   "metadata": {}
  },
  {
   "source": [
    "<h2>Uvod</h2>\n",
    "<p>S pomočjo knjižnice Pandas bom analizirala izposojene knjige v MKL v obdobju oktober 2019 - september 2020. Podatki so zbrani na strani [COBISS+] (https://plus.cobiss.si/most-read-web/#libAcronym=MKL&libType&materialTypes=7&periodFrom=201910&periodTo=202009&pubType=1&publishYear), za vsako knjigo sem zajela naslov, avtorja, število izposoj, vrsto literature in jezik.</p>\n",
    "<br>\n",
    "<p>Knjige (avtor, naslov, jezik in število izposoj) so zbrane v datoteki knjige.csv, vrste gradiv skupaj z naslovi knjig pa v datoteki vrste.csv. Podatke sem s spletne strani dobila z zajemom s programom poberi_podatke.py ter orodja.py, kjer so funkcije, ki sem jih uporabila.</p>\n",
    "<br>\n",
    "<p>Delovne hipoteze:</p>\n",
    "<ul>\n",
    "<li>Knjige v slovenščini so bile večkrat izposojene kot knjige v tujih jezikih.</li>\n",
    "<li>Največkrat izposojene knjige so romani.</li>\n",
    "<li>Avtorji največkrat izposojenih knjig bodo različni.</li>\n",
    "</ul>"
   ],
   "cell_type": "markdown",
   "metadata": {}
  },
  {
   "source": [
    "<h2>Analiza podatkov</h2>\n",
    "<p>Najprej uvozimo podatke:</p>"
   ],
   "cell_type": "markdown",
   "metadata": {}
  },
  {
   "cell_type": "code",
   "execution_count": 1,
   "metadata": {},
   "outputs": [],
   "source": [
    "import pandas as pd\n",
    "import os.path\n",
    "\n",
    "pd.options.display.max_rows = 10\n",
    "%matplotlib inline\n",
    "\n",
    "pot_do_knjig = os.path.join('podatki', 'knjige.csv')\n",
    "knjige = pd.read_csv(pot_do_knjig)\n",
    "pot_do_vrst_literature = os.path.join('podatki', 'vrste.csv')\n",
    "vrste_literature = pd.read_csv(pot_do_vrst_literature)"
   ]
  },
  {
   "source": [
    "Poglejmo si podatke:"
   ],
   "cell_type": "markdown",
   "metadata": {}
  },
  {
   "cell_type": "code",
   "execution_count": 2,
   "metadata": {},
   "outputs": [
    {
     "output_type": "execute_result",
     "data": {
      "text/plain": [
       "      izposoje                 avtor  \\\n",
       "0         2030         Bronja Žakelj   \n",
       "1         1718           Tadej Golob   \n",
       "2         1405           Tadej Golob   \n",
       "3         1286              Adam Kay   \n",
       "4         1250           Tadej Golob   \n",
       "...        ...                   ...   \n",
       "4915         1      Charles Bukowski   \n",
       "4916         1           Mantak Chia   \n",
       "4917         1  Siegfried Melchinger   \n",
       "4918         1        Barbara Taylor   \n",
       "4919         1           Manfred Mai   \n",
       "\n",
       "                                                 naslov      jezik  \n",
       "0                            Belo se pere na devetdeset  slovenski  \n",
       "1                                            Dolina rož  slovenski  \n",
       "2                                          Leninov park  slovenski  \n",
       "3     Tole bo bolelo : skrivni dnevnik mladega zdrav...  slovenski  \n",
       "4                                                Jezero  slovenski  \n",
       "...                                                 ...        ...  \n",
       "4915                                             Ženske  slovenski  \n",
       "4916  Ženski orgazem brez meja : odkrijte svoje pože...  slovenski  \n",
       "4917                   Zgodovina političnega gledališča  slovenski  \n",
       "4918                                   Življenje v vodi  slovenski  \n",
       "4919    Žoga za rojstni dan : slikopis za učenje branja  slovenski  \n",
       "\n",
       "[4920 rows x 4 columns]"
      ],
      "text/html": "<div>\n<style scoped>\n    .dataframe tbody tr th:only-of-type {\n        vertical-align: middle;\n    }\n\n    .dataframe tbody tr th {\n        vertical-align: top;\n    }\n\n    .dataframe thead th {\n        text-align: right;\n    }\n</style>\n<table border=\"1\" class=\"dataframe\">\n  <thead>\n    <tr style=\"text-align: right;\">\n      <th></th>\n      <th>izposoje</th>\n      <th>avtor</th>\n      <th>naslov</th>\n      <th>jezik</th>\n    </tr>\n  </thead>\n  <tbody>\n    <tr>\n      <th>0</th>\n      <td>2030</td>\n      <td>Bronja Žakelj</td>\n      <td>Belo se pere na devetdeset</td>\n      <td>slovenski</td>\n    </tr>\n    <tr>\n      <th>1</th>\n      <td>1718</td>\n      <td>Tadej Golob</td>\n      <td>Dolina rož</td>\n      <td>slovenski</td>\n    </tr>\n    <tr>\n      <th>2</th>\n      <td>1405</td>\n      <td>Tadej Golob</td>\n      <td>Leninov park</td>\n      <td>slovenski</td>\n    </tr>\n    <tr>\n      <th>3</th>\n      <td>1286</td>\n      <td>Adam Kay</td>\n      <td>Tole bo bolelo : skrivni dnevnik mladega zdrav...</td>\n      <td>slovenski</td>\n    </tr>\n    <tr>\n      <th>4</th>\n      <td>1250</td>\n      <td>Tadej Golob</td>\n      <td>Jezero</td>\n      <td>slovenski</td>\n    </tr>\n    <tr>\n      <th>...</th>\n      <td>...</td>\n      <td>...</td>\n      <td>...</td>\n      <td>...</td>\n    </tr>\n    <tr>\n      <th>4915</th>\n      <td>1</td>\n      <td>Charles Bukowski</td>\n      <td>Ženske</td>\n      <td>slovenski</td>\n    </tr>\n    <tr>\n      <th>4916</th>\n      <td>1</td>\n      <td>Mantak Chia</td>\n      <td>Ženski orgazem brez meja : odkrijte svoje pože...</td>\n      <td>slovenski</td>\n    </tr>\n    <tr>\n      <th>4917</th>\n      <td>1</td>\n      <td>Siegfried Melchinger</td>\n      <td>Zgodovina političnega gledališča</td>\n      <td>slovenski</td>\n    </tr>\n    <tr>\n      <th>4918</th>\n      <td>1</td>\n      <td>Barbara Taylor</td>\n      <td>Življenje v vodi</td>\n      <td>slovenski</td>\n    </tr>\n    <tr>\n      <th>4919</th>\n      <td>1</td>\n      <td>Manfred Mai</td>\n      <td>Žoga za rojstni dan : slikopis za učenje branja</td>\n      <td>slovenski</td>\n    </tr>\n  </tbody>\n</table>\n<p>4920 rows × 4 columns</p>\n</div>"
     },
     "metadata": {},
     "execution_count": 2
    }
   ],
   "source": [
    "knjige"
   ]
  },
  {
   "cell_type": "code",
   "execution_count": 3,
   "metadata": {},
   "outputs": [
    {
     "output_type": "execute_result",
     "data": {
      "text/plain": [
       "                                               knjiga  \\\n",
       "0                          Belo se pere na devetdeset   \n",
       "1                          Belo se pere na devetdeset   \n",
       "2                                          Dolina rož   \n",
       "3                                          Dolina rož   \n",
       "4                                        Leninov park   \n",
       "...                                               ...   \n",
       "9794                 Zgodovina političnega gledališča   \n",
       "9795                                 Življenje v vodi   \n",
       "9796                                 Življenje v vodi   \n",
       "9797  Žoga za rojstni dan : slikopis za učenje branja   \n",
       "9798  Žoga za rojstni dan : slikopis za učenje branja   \n",
       "\n",
       "                               vrsta  \n",
       "0                       življenjepis  \n",
       "1              leposlovje za odrasle  \n",
       "2                              roman  \n",
       "3              leposlovje za odrasle  \n",
       "4                              roman  \n",
       "...                              ...  \n",
       "9794         neleposlovje za odrasle  \n",
       "9795           strokovna monografija  \n",
       "9796         neleposlovje za odrasle  \n",
       "9797                       slikanica  \n",
       "9798  za predšolske otroke (0-5 let)  \n",
       "\n",
       "[9799 rows x 2 columns]"
      ],
      "text/html": "<div>\n<style scoped>\n    .dataframe tbody tr th:only-of-type {\n        vertical-align: middle;\n    }\n\n    .dataframe tbody tr th {\n        vertical-align: top;\n    }\n\n    .dataframe thead th {\n        text-align: right;\n    }\n</style>\n<table border=\"1\" class=\"dataframe\">\n  <thead>\n    <tr style=\"text-align: right;\">\n      <th></th>\n      <th>knjiga</th>\n      <th>vrsta</th>\n    </tr>\n  </thead>\n  <tbody>\n    <tr>\n      <th>0</th>\n      <td>Belo se pere na devetdeset</td>\n      <td>življenjepis</td>\n    </tr>\n    <tr>\n      <th>1</th>\n      <td>Belo se pere na devetdeset</td>\n      <td>leposlovje za odrasle</td>\n    </tr>\n    <tr>\n      <th>2</th>\n      <td>Dolina rož</td>\n      <td>roman</td>\n    </tr>\n    <tr>\n      <th>3</th>\n      <td>Dolina rož</td>\n      <td>leposlovje za odrasle</td>\n    </tr>\n    <tr>\n      <th>4</th>\n      <td>Leninov park</td>\n      <td>roman</td>\n    </tr>\n    <tr>\n      <th>...</th>\n      <td>...</td>\n      <td>...</td>\n    </tr>\n    <tr>\n      <th>9794</th>\n      <td>Zgodovina političnega gledališča</td>\n      <td>neleposlovje za odrasle</td>\n    </tr>\n    <tr>\n      <th>9795</th>\n      <td>Življenje v vodi</td>\n      <td>strokovna monografija</td>\n    </tr>\n    <tr>\n      <th>9796</th>\n      <td>Življenje v vodi</td>\n      <td>neleposlovje za odrasle</td>\n    </tr>\n    <tr>\n      <th>9797</th>\n      <td>Žoga za rojstni dan : slikopis za učenje branja</td>\n      <td>slikanica</td>\n    </tr>\n    <tr>\n      <th>9798</th>\n      <td>Žoga za rojstni dan : slikopis za učenje branja</td>\n      <td>za predšolske otroke (0-5 let)</td>\n    </tr>\n  </tbody>\n</table>\n<p>9799 rows × 2 columns</p>\n</div>"
     },
     "metadata": {},
     "execution_count": 3
    }
   ],
   "source": [
    "vrste_literature"
   ]
  },
  {
   "source": [
    "10 knjig z največ izposoj:"
   ],
   "cell_type": "markdown",
   "metadata": {}
  },
  {
   "cell_type": "code",
   "execution_count": 4,
   "metadata": {},
   "outputs": [
    {
     "output_type": "execute_result",
     "data": {
      "text/plain": [
       "   izposoje            avtor  \\\n",
       "0      2030    Bronja Žakelj   \n",
       "1      1718      Tadej Golob   \n",
       "2      1405      Tadej Golob   \n",
       "3      1286         Adam Kay   \n",
       "4      1250      Tadej Golob   \n",
       "5      1069   Elena Ferrante   \n",
       "6      1050     Norman Ohler   \n",
       "7      1039     Sally Rooney   \n",
       "8       970      Rosie Walsh   \n",
       "9       938  Julia Donaldson   \n",
       "\n",
       "                                              naslov      jezik  \n",
       "0                         Belo se pere na devetdeset  slovenski  \n",
       "1                                         Dolina rož  slovenski  \n",
       "2                                       Leninov park  slovenski  \n",
       "3  Tole bo bolelo : skrivni dnevnik mladega zdrav...  slovenski  \n",
       "4                                             Jezero  slovenski  \n",
       "5                  O izgubljeni deklici : zrela leta  slovenski  \n",
       "6              Popolna omama : droge v tretjem rajhu  slovenski  \n",
       "7                                    Normalni ljudje  slovenski  \n",
       "8                              Moški, ki ni poklical  slovenski  \n",
       "9                                          Zverjasec  slovenski  "
      ],
      "text/html": "<div>\n<style scoped>\n    .dataframe tbody tr th:only-of-type {\n        vertical-align: middle;\n    }\n\n    .dataframe tbody tr th {\n        vertical-align: top;\n    }\n\n    .dataframe thead th {\n        text-align: right;\n    }\n</style>\n<table border=\"1\" class=\"dataframe\">\n  <thead>\n    <tr style=\"text-align: right;\">\n      <th></th>\n      <th>izposoje</th>\n      <th>avtor</th>\n      <th>naslov</th>\n      <th>jezik</th>\n    </tr>\n  </thead>\n  <tbody>\n    <tr>\n      <th>0</th>\n      <td>2030</td>\n      <td>Bronja Žakelj</td>\n      <td>Belo se pere na devetdeset</td>\n      <td>slovenski</td>\n    </tr>\n    <tr>\n      <th>1</th>\n      <td>1718</td>\n      <td>Tadej Golob</td>\n      <td>Dolina rož</td>\n      <td>slovenski</td>\n    </tr>\n    <tr>\n      <th>2</th>\n      <td>1405</td>\n      <td>Tadej Golob</td>\n      <td>Leninov park</td>\n      <td>slovenski</td>\n    </tr>\n    <tr>\n      <th>3</th>\n      <td>1286</td>\n      <td>Adam Kay</td>\n      <td>Tole bo bolelo : skrivni dnevnik mladega zdrav...</td>\n      <td>slovenski</td>\n    </tr>\n    <tr>\n      <th>4</th>\n      <td>1250</td>\n      <td>Tadej Golob</td>\n      <td>Jezero</td>\n      <td>slovenski</td>\n    </tr>\n    <tr>\n      <th>5</th>\n      <td>1069</td>\n      <td>Elena Ferrante</td>\n      <td>O izgubljeni deklici : zrela leta</td>\n      <td>slovenski</td>\n    </tr>\n    <tr>\n      <th>6</th>\n      <td>1050</td>\n      <td>Norman Ohler</td>\n      <td>Popolna omama : droge v tretjem rajhu</td>\n      <td>slovenski</td>\n    </tr>\n    <tr>\n      <th>7</th>\n      <td>1039</td>\n      <td>Sally Rooney</td>\n      <td>Normalni ljudje</td>\n      <td>slovenski</td>\n    </tr>\n    <tr>\n      <th>8</th>\n      <td>970</td>\n      <td>Rosie Walsh</td>\n      <td>Moški, ki ni poklical</td>\n      <td>slovenski</td>\n    </tr>\n    <tr>\n      <th>9</th>\n      <td>938</td>\n      <td>Julia Donaldson</td>\n      <td>Zverjasec</td>\n      <td>slovenski</td>\n    </tr>\n  </tbody>\n</table>\n</div>"
     },
     "metadata": {},
     "execution_count": 4
    }
   ],
   "source": [
    "knjige.head(10)"
   ]
  },
  {
   "source": [
    "Knjige, ki so bile izposojene le 1-krat:"
   ],
   "cell_type": "markdown",
   "metadata": {}
  },
  {
   "cell_type": "code",
   "execution_count": 7,
   "metadata": {},
   "outputs": [
    {
     "output_type": "execute_result",
     "data": {
      "text/plain": [
       "      izposoje                 avtor  \\\n",
       "4660         1          Stane Bernik   \n",
       "4661         1       Graham Saunders   \n",
       "4662         1   John Julius Norwich   \n",
       "4663         1          Mila Haugová   \n",
       "4664         1        Rolf Bertolini   \n",
       "...        ...                   ...   \n",
       "4915         1      Charles Bukowski   \n",
       "4916         1           Mantak Chia   \n",
       "4917         1  Siegfried Melchinger   \n",
       "4918         1        Barbara Taylor   \n",
       "4919         1           Manfred Mai   \n",
       "\n",
       "                                                 naslov                jezik  \n",
       "4660  20. stoletje : arhitektura od moderne do sodob...            slovenski  \n",
       "4661           About Kane : the playwright and the work             angleški  \n",
       "4662                                A history of Venice             angleški  \n",
       "4663                                               Alfa            slovenski  \n",
       "4664  Anatomski atlas : iz sistemskega in topografsk...  slovenski, latinski  \n",
       "...                                                 ...                  ...  \n",
       "4915                                             Ženske            slovenski  \n",
       "4916  Ženski orgazem brez meja : odkrijte svoje pože...            slovenski  \n",
       "4917                   Zgodovina političnega gledališča            slovenski  \n",
       "4918                                   Življenje v vodi            slovenski  \n",
       "4919    Žoga za rojstni dan : slikopis za učenje branja            slovenski  \n",
       "\n",
       "[260 rows x 4 columns]"
      ],
      "text/html": "<div>\n<style scoped>\n    .dataframe tbody tr th:only-of-type {\n        vertical-align: middle;\n    }\n\n    .dataframe tbody tr th {\n        vertical-align: top;\n    }\n\n    .dataframe thead th {\n        text-align: right;\n    }\n</style>\n<table border=\"1\" class=\"dataframe\">\n  <thead>\n    <tr style=\"text-align: right;\">\n      <th></th>\n      <th>izposoje</th>\n      <th>avtor</th>\n      <th>naslov</th>\n      <th>jezik</th>\n    </tr>\n  </thead>\n  <tbody>\n    <tr>\n      <th>4660</th>\n      <td>1</td>\n      <td>Stane Bernik</td>\n      <td>20. stoletje : arhitektura od moderne do sodob...</td>\n      <td>slovenski</td>\n    </tr>\n    <tr>\n      <th>4661</th>\n      <td>1</td>\n      <td>Graham Saunders</td>\n      <td>About Kane : the playwright and the work</td>\n      <td>angleški</td>\n    </tr>\n    <tr>\n      <th>4662</th>\n      <td>1</td>\n      <td>John Julius Norwich</td>\n      <td>A history of Venice</td>\n      <td>angleški</td>\n    </tr>\n    <tr>\n      <th>4663</th>\n      <td>1</td>\n      <td>Mila Haugová</td>\n      <td>Alfa</td>\n      <td>slovenski</td>\n    </tr>\n    <tr>\n      <th>4664</th>\n      <td>1</td>\n      <td>Rolf Bertolini</td>\n      <td>Anatomski atlas : iz sistemskega in topografsk...</td>\n      <td>slovenski, latinski</td>\n    </tr>\n    <tr>\n      <th>...</th>\n      <td>...</td>\n      <td>...</td>\n      <td>...</td>\n      <td>...</td>\n    </tr>\n    <tr>\n      <th>4915</th>\n      <td>1</td>\n      <td>Charles Bukowski</td>\n      <td>Ženske</td>\n      <td>slovenski</td>\n    </tr>\n    <tr>\n      <th>4916</th>\n      <td>1</td>\n      <td>Mantak Chia</td>\n      <td>Ženski orgazem brez meja : odkrijte svoje pože...</td>\n      <td>slovenski</td>\n    </tr>\n    <tr>\n      <th>4917</th>\n      <td>1</td>\n      <td>Siegfried Melchinger</td>\n      <td>Zgodovina političnega gledališča</td>\n      <td>slovenski</td>\n    </tr>\n    <tr>\n      <th>4918</th>\n      <td>1</td>\n      <td>Barbara Taylor</td>\n      <td>Življenje v vodi</td>\n      <td>slovenski</td>\n    </tr>\n    <tr>\n      <th>4919</th>\n      <td>1</td>\n      <td>Manfred Mai</td>\n      <td>Žoga za rojstni dan : slikopis za učenje branja</td>\n      <td>slovenski</td>\n    </tr>\n  </tbody>\n</table>\n<p>260 rows × 4 columns</p>\n</div>"
     },
     "metadata": {},
     "execution_count": 7
    }
   ],
   "source": [
    "knjige[knjige.izposoje == 1]"
   ]
  },
  {
   "source": [
    "Knjige v slovenskem jeziku:"
   ],
   "cell_type": "markdown",
   "metadata": {}
  },
  {
   "cell_type": "code",
   "execution_count": 9,
   "metadata": {},
   "outputs": [
    {
     "output_type": "execute_result",
     "data": {
      "text/plain": [
       "      izposoje                 avtor  \\\n",
       "0         2030         Bronja Žakelj   \n",
       "1         1718           Tadej Golob   \n",
       "2         1405           Tadej Golob   \n",
       "3         1286              Adam Kay   \n",
       "4         1250           Tadej Golob   \n",
       "...        ...                   ...   \n",
       "4915         1      Charles Bukowski   \n",
       "4916         1           Mantak Chia   \n",
       "4917         1  Siegfried Melchinger   \n",
       "4918         1        Barbara Taylor   \n",
       "4919         1           Manfred Mai   \n",
       "\n",
       "                                                 naslov      jezik  \n",
       "0                            Belo se pere na devetdeset  slovenski  \n",
       "1                                            Dolina rož  slovenski  \n",
       "2                                          Leninov park  slovenski  \n",
       "3     Tole bo bolelo : skrivni dnevnik mladega zdrav...  slovenski  \n",
       "4                                                Jezero  slovenski  \n",
       "...                                                 ...        ...  \n",
       "4915                                             Ženske  slovenski  \n",
       "4916  Ženski orgazem brez meja : odkrijte svoje pože...  slovenski  \n",
       "4917                   Zgodovina političnega gledališča  slovenski  \n",
       "4918                                   Življenje v vodi  slovenski  \n",
       "4919    Žoga za rojstni dan : slikopis za učenje branja  slovenski  \n",
       "\n",
       "[4769 rows x 4 columns]"
      ],
      "text/html": "<div>\n<style scoped>\n    .dataframe tbody tr th:only-of-type {\n        vertical-align: middle;\n    }\n\n    .dataframe tbody tr th {\n        vertical-align: top;\n    }\n\n    .dataframe thead th {\n        text-align: right;\n    }\n</style>\n<table border=\"1\" class=\"dataframe\">\n  <thead>\n    <tr style=\"text-align: right;\">\n      <th></th>\n      <th>izposoje</th>\n      <th>avtor</th>\n      <th>naslov</th>\n      <th>jezik</th>\n    </tr>\n  </thead>\n  <tbody>\n    <tr>\n      <th>0</th>\n      <td>2030</td>\n      <td>Bronja Žakelj</td>\n      <td>Belo se pere na devetdeset</td>\n      <td>slovenski</td>\n    </tr>\n    <tr>\n      <th>1</th>\n      <td>1718</td>\n      <td>Tadej Golob</td>\n      <td>Dolina rož</td>\n      <td>slovenski</td>\n    </tr>\n    <tr>\n      <th>2</th>\n      <td>1405</td>\n      <td>Tadej Golob</td>\n      <td>Leninov park</td>\n      <td>slovenski</td>\n    </tr>\n    <tr>\n      <th>3</th>\n      <td>1286</td>\n      <td>Adam Kay</td>\n      <td>Tole bo bolelo : skrivni dnevnik mladega zdrav...</td>\n      <td>slovenski</td>\n    </tr>\n    <tr>\n      <th>4</th>\n      <td>1250</td>\n      <td>Tadej Golob</td>\n      <td>Jezero</td>\n      <td>slovenski</td>\n    </tr>\n    <tr>\n      <th>...</th>\n      <td>...</td>\n      <td>...</td>\n      <td>...</td>\n      <td>...</td>\n    </tr>\n    <tr>\n      <th>4915</th>\n      <td>1</td>\n      <td>Charles Bukowski</td>\n      <td>Ženske</td>\n      <td>slovenski</td>\n    </tr>\n    <tr>\n      <th>4916</th>\n      <td>1</td>\n      <td>Mantak Chia</td>\n      <td>Ženski orgazem brez meja : odkrijte svoje pože...</td>\n      <td>slovenski</td>\n    </tr>\n    <tr>\n      <th>4917</th>\n      <td>1</td>\n      <td>Siegfried Melchinger</td>\n      <td>Zgodovina političnega gledališča</td>\n      <td>slovenski</td>\n    </tr>\n    <tr>\n      <th>4918</th>\n      <td>1</td>\n      <td>Barbara Taylor</td>\n      <td>Življenje v vodi</td>\n      <td>slovenski</td>\n    </tr>\n    <tr>\n      <th>4919</th>\n      <td>1</td>\n      <td>Manfred Mai</td>\n      <td>Žoga za rojstni dan : slikopis za učenje branja</td>\n      <td>slovenski</td>\n    </tr>\n  </tbody>\n</table>\n<p>4769 rows × 4 columns</p>\n</div>"
     },
     "metadata": {},
     "execution_count": 9
    }
   ],
   "source": [
    "knjige[knjige.jezik == 'slovenski']"
   ]
  },
  {
   "source": [
    "Knjige v tujih jezikih:"
   ],
   "cell_type": "markdown",
   "metadata": {}
  },
  {
   "cell_type": "code",
   "execution_count": 10,
   "metadata": {},
   "outputs": [
    {
     "output_type": "execute_result",
     "data": {
      "text/plain": [
       "      izposoje                  avtor  \\\n",
       "597        220        William Golding   \n",
       "617        215           Anne Collins   \n",
       "634        212   Coleen Degnan-Veness   \n",
       "651        209  Lynne Doherty Herndon   \n",
       "655        208     Arthur Conan Doyle   \n",
       "...        ...                    ...   \n",
       "4884         1                    NaN   \n",
       "4898         1         David Krašovec   \n",
       "4900         1        Heinrich Decker   \n",
       "4902         1        Maggie Alderson   \n",
       "4906         1           Hugh Poulton   \n",
       "\n",
       "                                                 naslov                 jezik  \n",
       "597                                   Lord of the flies              angleški  \n",
       "617                                  Where animals live              angleški  \n",
       "634                             The story of Spider-Man              angleški  \n",
       "651                                  Peter and the wolf              angleški  \n",
       "655                             Sherlock Holmes stories              angleški  \n",
       "...                                                 ...                   ...  \n",
       "4884                    The Oxford dictionary of idioms              angleški  \n",
       "4898  Valentin Metzinger : (1699-1759) : Lorenec na ...  slovenski, francoski  \n",
       "4900              Venedig : Antlitz und Kunst der Stadt                nemški  \n",
       "4902                                    Vruće pantalone                srbski  \n",
       "4906                           Who are the Macedonians?              angleški  \n",
       "\n",
       "[151 rows x 4 columns]"
      ],
      "text/html": "<div>\n<style scoped>\n    .dataframe tbody tr th:only-of-type {\n        vertical-align: middle;\n    }\n\n    .dataframe tbody tr th {\n        vertical-align: top;\n    }\n\n    .dataframe thead th {\n        text-align: right;\n    }\n</style>\n<table border=\"1\" class=\"dataframe\">\n  <thead>\n    <tr style=\"text-align: right;\">\n      <th></th>\n      <th>izposoje</th>\n      <th>avtor</th>\n      <th>naslov</th>\n      <th>jezik</th>\n    </tr>\n  </thead>\n  <tbody>\n    <tr>\n      <th>597</th>\n      <td>220</td>\n      <td>William Golding</td>\n      <td>Lord of the flies</td>\n      <td>angleški</td>\n    </tr>\n    <tr>\n      <th>617</th>\n      <td>215</td>\n      <td>Anne Collins</td>\n      <td>Where animals live</td>\n      <td>angleški</td>\n    </tr>\n    <tr>\n      <th>634</th>\n      <td>212</td>\n      <td>Coleen Degnan-Veness</td>\n      <td>The story of Spider-Man</td>\n      <td>angleški</td>\n    </tr>\n    <tr>\n      <th>651</th>\n      <td>209</td>\n      <td>Lynne Doherty Herndon</td>\n      <td>Peter and the wolf</td>\n      <td>angleški</td>\n    </tr>\n    <tr>\n      <th>655</th>\n      <td>208</td>\n      <td>Arthur Conan Doyle</td>\n      <td>Sherlock Holmes stories</td>\n      <td>angleški</td>\n    </tr>\n    <tr>\n      <th>...</th>\n      <td>...</td>\n      <td>...</td>\n      <td>...</td>\n      <td>...</td>\n    </tr>\n    <tr>\n      <th>4884</th>\n      <td>1</td>\n      <td>NaN</td>\n      <td>The Oxford dictionary of idioms</td>\n      <td>angleški</td>\n    </tr>\n    <tr>\n      <th>4898</th>\n      <td>1</td>\n      <td>David Krašovec</td>\n      <td>Valentin Metzinger : (1699-1759) : Lorenec na ...</td>\n      <td>slovenski, francoski</td>\n    </tr>\n    <tr>\n      <th>4900</th>\n      <td>1</td>\n      <td>Heinrich Decker</td>\n      <td>Venedig : Antlitz und Kunst der Stadt</td>\n      <td>nemški</td>\n    </tr>\n    <tr>\n      <th>4902</th>\n      <td>1</td>\n      <td>Maggie Alderson</td>\n      <td>Vruće pantalone</td>\n      <td>srbski</td>\n    </tr>\n    <tr>\n      <th>4906</th>\n      <td>1</td>\n      <td>Hugh Poulton</td>\n      <td>Who are the Macedonians?</td>\n      <td>angleški</td>\n    </tr>\n  </tbody>\n</table>\n<p>151 rows × 4 columns</p>\n</div>"
     },
     "metadata": {},
     "execution_count": 10
    }
   ],
   "source": [
    "knjige[knjige.jezik != 'slovenski']"
   ]
  },
  {
   "source": [
    "Koliko knjig posameznega avtorja je bilo izposojeno?"
   ],
   "cell_type": "markdown",
   "metadata": {}
  },
  {
   "cell_type": "code",
   "execution_count": 11,
   "metadata": {},
   "outputs": [
    {
     "output_type": "execute_result",
     "data": {
      "text/plain": [
       "                    izposoje  naslov  jezik\n",
       "avtor                                      \n",
       "A. H. Benjamin             2       2      2\n",
       "A. J. Finn                 1       1      1\n",
       "A. J. Wood                 1       1      1\n",
       "A. S. A. Harrison          1       1      1\n",
       "Abbi Glines                2       2      2\n",
       "...                      ...     ...    ...\n",
       "Đorđe Ličina               1       1      1\n",
       "Žarko Laušević             1       1      1\n",
       "Željko Malić               1       1      1\n",
       "Žiga Gombač                4       4      4\n",
       "Živa Viviana Doria         3       3      3\n",
       "\n",
       "[2451 rows x 3 columns]"
      ],
      "text/html": "<div>\n<style scoped>\n    .dataframe tbody tr th:only-of-type {\n        vertical-align: middle;\n    }\n\n    .dataframe tbody tr th {\n        vertical-align: top;\n    }\n\n    .dataframe thead th {\n        text-align: right;\n    }\n</style>\n<table border=\"1\" class=\"dataframe\">\n  <thead>\n    <tr style=\"text-align: right;\">\n      <th></th>\n      <th>izposoje</th>\n      <th>naslov</th>\n      <th>jezik</th>\n    </tr>\n    <tr>\n      <th>avtor</th>\n      <th></th>\n      <th></th>\n      <th></th>\n    </tr>\n  </thead>\n  <tbody>\n    <tr>\n      <th>A. H. Benjamin</th>\n      <td>2</td>\n      <td>2</td>\n      <td>2</td>\n    </tr>\n    <tr>\n      <th>A. J. Finn</th>\n      <td>1</td>\n      <td>1</td>\n      <td>1</td>\n    </tr>\n    <tr>\n      <th>A. J. Wood</th>\n      <td>1</td>\n      <td>1</td>\n      <td>1</td>\n    </tr>\n    <tr>\n      <th>A. S. A. Harrison</th>\n      <td>1</td>\n      <td>1</td>\n      <td>1</td>\n    </tr>\n    <tr>\n      <th>Abbi Glines</th>\n      <td>2</td>\n      <td>2</td>\n      <td>2</td>\n    </tr>\n    <tr>\n      <th>...</th>\n      <td>...</td>\n      <td>...</td>\n      <td>...</td>\n    </tr>\n    <tr>\n      <th>Đorđe Ličina</th>\n      <td>1</td>\n      <td>1</td>\n      <td>1</td>\n    </tr>\n    <tr>\n      <th>Žarko Laušević</th>\n      <td>1</td>\n      <td>1</td>\n      <td>1</td>\n    </tr>\n    <tr>\n      <th>Željko Malić</th>\n      <td>1</td>\n      <td>1</td>\n      <td>1</td>\n    </tr>\n    <tr>\n      <th>Žiga Gombač</th>\n      <td>4</td>\n      <td>4</td>\n      <td>4</td>\n    </tr>\n    <tr>\n      <th>Živa Viviana Doria</th>\n      <td>3</td>\n      <td>3</td>\n      <td>3</td>\n    </tr>\n  </tbody>\n</table>\n<p>2451 rows × 3 columns</p>\n</div>"
     },
     "metadata": {},
     "execution_count": 11
    }
   ],
   "source": [
    "knjige.groupby('avtor').count()"
   ]
  },
  {
   "cell_type": "code",
   "execution_count": 13,
   "metadata": {},
   "outputs": [
    {
     "output_type": "execute_result",
     "data": {
      "text/plain": [
       "                    izposoje  naslov  jezik\n",
       "avtor                                      \n",
       "Primož Suhodolčan         23      23     23\n",
       "Miki Muster               23      23     23\n",
       "Julia Donaldson           24      24     24\n",
       "Roald Dahl                24      24     24\n",
       "René Goscinny             24      24     24\n",
       "Jim Davis                 25      25     25\n",
       "Svetlana Makarovič        26      26     26\n",
       "James Patterson           27      27     27\n",
       "Desa Muck                 31      31     31\n",
       "Enid Blyton               32      32     32"
      ],
      "text/html": "<div>\n<style scoped>\n    .dataframe tbody tr th:only-of-type {\n        vertical-align: middle;\n    }\n\n    .dataframe tbody tr th {\n        vertical-align: top;\n    }\n\n    .dataframe thead th {\n        text-align: right;\n    }\n</style>\n<table border=\"1\" class=\"dataframe\">\n  <thead>\n    <tr style=\"text-align: right;\">\n      <th></th>\n      <th>izposoje</th>\n      <th>naslov</th>\n      <th>jezik</th>\n    </tr>\n    <tr>\n      <th>avtor</th>\n      <th></th>\n      <th></th>\n      <th></th>\n    </tr>\n  </thead>\n  <tbody>\n    <tr>\n      <th>Primož Suhodolčan</th>\n      <td>23</td>\n      <td>23</td>\n      <td>23</td>\n    </tr>\n    <tr>\n      <th>Miki Muster</th>\n      <td>23</td>\n      <td>23</td>\n      <td>23</td>\n    </tr>\n    <tr>\n      <th>Julia Donaldson</th>\n      <td>24</td>\n      <td>24</td>\n      <td>24</td>\n    </tr>\n    <tr>\n      <th>Roald Dahl</th>\n      <td>24</td>\n      <td>24</td>\n      <td>24</td>\n    </tr>\n    <tr>\n      <th>René Goscinny</th>\n      <td>24</td>\n      <td>24</td>\n      <td>24</td>\n    </tr>\n    <tr>\n      <th>Jim Davis</th>\n      <td>25</td>\n      <td>25</td>\n      <td>25</td>\n    </tr>\n    <tr>\n      <th>Svetlana Makarovič</th>\n      <td>26</td>\n      <td>26</td>\n      <td>26</td>\n    </tr>\n    <tr>\n      <th>James Patterson</th>\n      <td>27</td>\n      <td>27</td>\n      <td>27</td>\n    </tr>\n    <tr>\n      <th>Desa Muck</th>\n      <td>31</td>\n      <td>31</td>\n      <td>31</td>\n    </tr>\n    <tr>\n      <th>Enid Blyton</th>\n      <td>32</td>\n      <td>32</td>\n      <td>32</td>\n    </tr>\n  </tbody>\n</table>\n</div>"
     },
     "metadata": {},
     "execution_count": 13
    }
   ],
   "source": [
    "knjige.groupby('avtor').count().sort_values('naslov').tail(10)"
   ]
  },
  {
   "source": [
    "Vidimo, da je bilo najvec izposojenih knjig avtorice Enid Blyton.\n",
    "Poglejmo, katere so te knjige."
   ],
   "cell_type": "markdown",
   "metadata": {}
  },
  {
   "cell_type": "code",
   "execution_count": 15,
   "metadata": {},
   "outputs": [
    {
     "output_type": "execute_result",
     "data": {
      "text/plain": [
       "677                                      Skrivnih sedem\n",
       "755                            Skrivnost starega stolpa\n",
       "797                               Nagajivka Nika v šoli\n",
       "887     Skrivnih sedem, Pogumno naprej, Skrivnih sedem!\n",
       "937                        Skrivnost Šepetajočega otoka\n",
       "                             ...                       \n",
       "1936                                  Na otoku zakladov\n",
       "2235                        Skrivnost tolpe Zelena roka\n",
       "2285                                Zaklad grajskih ječ\n",
       "2414                            Skrivnost hiše Ratatata\n",
       "3072                      Skrivnost tajnega pristanišča\n",
       "Name: naslov, Length: 32, dtype: object"
      ]
     },
     "metadata": {},
     "execution_count": 15
    }
   ],
   "source": [
    "knjige[knjige.avtor == 'Enid Blyton'].naslov"
   ]
  },
  {
   "cell_type": "code",
   "execution_count": null,
   "metadata": {},
   "outputs": [],
   "source": []
  }
 ]
}