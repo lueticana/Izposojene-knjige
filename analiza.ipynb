{
 "metadata": {
  "language_info": {
   "codemirror_mode": {
    "name": "ipython",
    "version": 3
   },
   "file_extension": ".py",
   "mimetype": "text/x-python",
   "name": "python",
   "nbconvert_exporter": "python",
   "pygments_lexer": "ipython3",
   "version": "3.8.1-final"
  },
  "orig_nbformat": 2,
  "kernelspec": {
   "name": "python3",
   "display_name": "Python 3",
   "language": "python"
  }
 },
 "nbformat": 4,
 "nbformat_minor": 2,
 "cells": [
  {
   "cell_type": "code",
   "execution_count": 2,
   "metadata": {},
   "outputs": [],
   "source": [
    "import pandas as pd\n",
    "import os.path\n",
    "\n",
    "pd.options.display.max_rows = 10\n",
    "%matplotlib inline"
   ]
  },
  {
   "source": [
    "<p>S pomočjo knjižnice Pandas bom analizirala izposojene knjige v MKL v obdobju oktober 2019 - september 2020. Podatki so zbrani na strani [COBISS+] (https://plus.cobiss.si/most-read-web/#libAcronym=MKL&libType&materialTypes=7&periodFrom=201910&periodTo=202009&pubType=1&publishYear), za vsako knjigo sem zajela naslov, avtorja, število izposoj, vrsto literature in jezik.</p>\n",
    "<br>\n",
    "<p>Knjige (avtor, naslov, jezik in število izposoj) so zbrane v datoteki knjige.csv, vrste gradiv skupaj z naslovi knjig pa v datoteki vrste.csv. Podatke sem s spletne strani dobila z zajemom s programom poberi_podatke.py ter orodja.py, kjer so funkcije, ki sem jih uporabila.</p>\n",
    "<br>\n",
    "<p>Delovne hipoteze:</p>\n",
    "<ul>\n",
    "<li>Knjige v slovenščini so bile večkrat izposojene kot knjige v tujih jezikih.</li>\n",
    "<li>Največkrat izposojene knjige so romani.</li>\n",
    "<li>Avtorji največkrat izposojenih knjig bodo različni.</li>\n",
    "</ul>\n",
    "<br>\n",
    "<p>Najprej uvozimo podatke:</p>"
   ],
   "cell_type": "code",
   "metadata": {},
   "execution_count": null,
   "outputs": []
  },
  {
   "cell_type": "code",
   "execution_count": null,
   "metadata": {},
   "outputs": [],
   "source": [
    "pot_do_knjig = os.path.join('podatki', 'knjige.csv')\n",
    "knjige = pd.read_csv(pot_do_knjig)\n",
    "pot_do_vrst_literature = os.path.join('podatki', 'vrste.csv')\n",
    "vrste_literature = pd.read_csv(pot_do_vrst_literature)"
   ]
  },
  {
   "source": [
    "Poglejmo si podatke o knjigah:"
   ],
   "cell_type": "code",
   "metadata": {},
   "execution_count": null,
   "outputs": []
  }
 ]
}